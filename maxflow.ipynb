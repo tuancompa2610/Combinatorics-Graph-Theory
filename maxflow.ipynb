{
 "cells": [
  {
   "cell_type": "code",
   "execution_count": 6,
   "metadata": {},
   "outputs": [
    {
     "name": "stdout",
     "output_type": "stream",
     "text": [
      "Collecting ortoolsNote: you may need to restart the kernel to use updated packages.\n",
      "\n",
      "  Downloading ortools-9.6.2534-cp310-cp310-win_amd64.whl (43.5 MB)\n",
      "     ---------------------------------------- 43.5/43.5 MB 1.0 MB/s eta 0:00:00\n",
      "Collecting scipy>=1.10.0\n",
      "  Downloading scipy-1.10.1-cp310-cp310-win_amd64.whl (42.5 MB)\n",
      "     ---------------------------------------- 42.5/42.5 MB 1.4 MB/s eta 0:00:00\n",
      "Requirement already satisfied: numpy>=1.13.3 in c:\\users\\admin\\anaconda3\\envs\\deoldify\\lib\\site-packages (from ortools) (1.23.2)\n",
      "Collecting absl-py>=0.13\n",
      "  Downloading absl_py-1.4.0-py3-none-any.whl (126 kB)\n",
      "     -------------------------------------- 126.5/126.5 kB 1.8 MB/s eta 0:00:00\n",
      "Collecting protobuf>=4.21.12\n",
      "  Downloading protobuf-4.23.0-cp310-abi3-win_amd64.whl (422 kB)\n",
      "     -------------------------------------- 422.5/422.5 kB 2.2 MB/s eta 0:00:00\n",
      "Installing collected packages: scipy, protobuf, absl-py, ortools\n",
      "  Attempting uninstall: scipy\n",
      "    Found existing installation: scipy 1.9.1\n",
      "    Uninstalling scipy-1.9.1:\n",
      "      Successfully uninstalled scipy-1.9.1\n",
      "  Attempting uninstall: protobuf\n",
      "    Found existing installation: protobuf 3.20.1\n",
      "    Uninstalling protobuf-3.20.1:\n",
      "      Successfully uninstalled protobuf-3.20.1\n",
      "Successfully installed absl-py-1.4.0 ortools-9.6.2534 protobuf-4.23.0 scipy-1.10.1\n"
     ]
    },
    {
     "name": "stderr",
     "output_type": "stream",
     "text": [
      "ERROR: pip's dependency resolver does not currently take into account all the packages that are installed. This behaviour is the source of the following dependency conflicts.\n",
      "fastai 1.0.60 requires nvidia-ml-py3, which is not installed.\n",
      "wandb 0.13.2 requires protobuf<4.0dev,>=3.12.0, but you have protobuf 4.23.0 which is incompatible.\n",
      "tensorboardx 2.5.1 requires protobuf<=3.20.1,>=3.8.0, but you have protobuf 4.23.0 which is incompatible.\n"
     ]
    }
   ],
   "source": [
    "%pip install ortools"
   ]
  },
  {
   "cell_type": "code",
   "execution_count": 7,
   "metadata": {},
   "outputs": [],
   "source": [
    "import numpy as np\n",
    "from ortools.graph.python import max_flow"
   ]
  },
  {
   "cell_type": "code",
   "execution_count": 13,
   "metadata": {},
   "outputs": [
    {
     "name": "stdout",
     "output_type": "stream",
     "text": [
      "Max flow: 24\n",
      "\n",
      " Arc    Flow / Capacity\n",
      "0 / 1     5  /   6\n",
      "0 / 2    14  /  14\n",
      "0 / 3     5  /   5\n",
      "1 / 4     7  /   7\n",
      "1 / 6     4  /   4\n",
      "2 / 1     6  /   6\n",
      "2 / 3     3  /   3\n",
      "2 / 5     5  /   6\n",
      "3 / 7     0  /   4\n",
      "3 / 8     8  /  10\n",
      "4 / 2     0  /   2\n",
      "4 / 6     1  /   3\n",
      "4 / 8     9  /   9\n",
      "5 / 4     3  /   3\n",
      "5 / 7     1  /   3\n",
      "5 / 8     1  /   1\n",
      "6 / 7     0  /   2\n",
      "6 / 8     5  /   6\n",
      "7 / 8     1  /   1\n",
      "Source side min-cut: [0, 1, 2, 5, 7]\n",
      "Sink side min-cut: [8, 3, 6, 4]\n"
     ]
    }
   ],
   "source": [
    "def main():\n",
    "    \"\"\"MaxFlow simple interface example.\"\"\"\n",
    "    # Instantiate a SimpleMaxFlow solver.\n",
    "    smf = max_flow.SimpleMaxFlow()\n",
    "\n",
    "    # Define three parallel arrays: start_nodes, end_nodes, and the capacities\n",
    "    # between each pair. For instance, the arc from node 0 to node 1 has a\n",
    "    # capacity of 20.\n",
    "    start_nodes = np.array([0, 0, 0, 1, 1, 2, 2, 2, 3, 3, 4, 4, 4, 5, 5, 5, 6, 6, 7])\n",
    "    end_nodes = np.array([1, 2, 3, 4, 6, 1, 3, 5, 7, 8, 2, 6, 8, 4, 7, 8, 7, 8, 8])\n",
    "    capacities = np.array([6, 14, 5, 7, 4, 6, 3, 6, 4, 10, 2, 3, 9, 3, 3, 1, 2, 6, 1])\n",
    "\n",
    "    # Add arcs in bulk.\n",
    "    #   note: we could have used add_arc_with_capacity(start, end, capacity)\n",
    "    all_arcs = smf.add_arcs_with_capacity(start_nodes, end_nodes, capacities)\n",
    "\n",
    "    # Find the maximum flow between node 0 and node 4.\n",
    "    status = smf.solve(0, 8)\n",
    "\n",
    "    if status != smf.OPTIMAL:\n",
    "        print('There was an issue with the max flow input.')\n",
    "        print(f'Status: {status}')\n",
    "        exit(1)\n",
    "    print('Max flow:', smf.optimal_flow())\n",
    "    print('')\n",
    "    print(' Arc    Flow / Capacity')\n",
    "    solution_flows = smf.flows(all_arcs)\n",
    "    for arc, flow, capacity in zip(all_arcs, solution_flows, capacities):\n",
    "        print(f'{smf.tail(arc)} / {smf.head(arc)}   {flow:3}  / {capacity:3}')\n",
    "    print('Source side min-cut:', smf.get_source_side_min_cut())\n",
    "    print('Sink side min-cut:', smf.get_sink_side_min_cut())\n",
    "\n",
    "\n",
    "if __name__ == '__main__':\n",
    "    main()"
   ]
  }
 ],
 "metadata": {
  "kernelspec": {
   "display_name": "deoldify",
   "language": "python",
   "name": "python3"
  },
  "language_info": {
   "codemirror_mode": {
    "name": "ipython",
    "version": 3
   },
   "file_extension": ".py",
   "mimetype": "text/x-python",
   "name": "python",
   "nbconvert_exporter": "python",
   "pygments_lexer": "ipython3",
   "version": "3.10.6"
  },
  "orig_nbformat": 4
 },
 "nbformat": 4,
 "nbformat_minor": 2
}
